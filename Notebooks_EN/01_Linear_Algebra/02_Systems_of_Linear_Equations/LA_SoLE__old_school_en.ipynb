{
 "cells": [
  {
   "cell_type": "markdown",
   "metadata": {},
   "source": [
    "# School Method for Solving Systems of Linear Equations"
   ]
  },
  {
   "cell_type": "code",
   "execution_count": 1,
   "metadata": {},
   "outputs": [],
   "source": [
    "import sympy as sp\n",
    "from sympy import symbols, Eq, expand, solve\n",
    "\n",
    "class EnhancedEq(Eq):\n",
    "    def __add__(self, other):\n",
    "        return EnhancedEq(self.lhs + other.lhs, self.rhs + other.rhs)\n",
    "\n",
    "    def __sub__(self, other):\n",
    "        return EnhancedEq(self.lhs - other.lhs, self.rhs - other.rhs)\n",
    "\n",
    "    def __mul__(self, scalar):\n",
    "        return EnhancedEq(scalar * self.lhs, scalar * self.rhs)\n",
    "\n",
    "    def __rmul__(self, scalar):\n",
    "        return self.__mul__(scalar)\n",
    "\n",
    "    def simplify(self):\n",
    "        return EnhancedEq(expand(self.lhs), expand(self.rhs))\n",
    "\n",
    "    def substitute(self, *args, **kwargs):\n",
    "        return EnhancedEq(self.lhs.subs(*args, **kwargs), self.rhs.subs(*args, **kwargs))\n",
    "\n",
    "    def solve_for(self, symbol):\n",
    "        return solve(self, symbol)\n",
    "\n",
    "# Example usage:\n",
    "x, y = symbols('x y')\n",
    "\n",
    "# Define equations\n",
    "eq1 = EnhancedEq(2*x + y, 5)\n",
    "eq2 = EnhancedEq(x - y, 1)"
   ]
  },
  {
   "cell_type": "code",
   "execution_count": 2,
   "metadata": {},
   "outputs": [
    {
     "name": "stdout",
     "output_type": "stream",
     "text": [
      "First equation:\n"
     ]
    },
    {
     "data": {
      "text/latex": [
       "$\\displaystyle 2 x + y = 5$"
      ],
      "text/plain": [
       "Eq(2*x + y, 5)"
      ]
     },
     "execution_count": 2,
     "metadata": {},
     "output_type": "execute_result"
    }
   ],
   "source": [
    "print(\"First equation:\")\n",
    "eq1"
   ]
  },
  {
   "cell_type": "code",
   "execution_count": 3,
   "metadata": {},
   "outputs": [
    {
     "name": "stdout",
     "output_type": "stream",
     "text": [
      "Second equation:\n"
     ]
    },
    {
     "data": {
      "text/latex": [
       "$\\displaystyle x - y = 1$"
      ],
      "text/plain": [
       "Eq(x - y, 1)"
      ]
     },
     "execution_count": 3,
     "metadata": {},
     "output_type": "execute_result"
    }
   ],
   "source": [
    "print(\"Second equation:\")\n",
    "eq2"
   ]
  },
  {
   "cell_type": "code",
   "execution_count": 4,
   "metadata": {},
   "outputs": [
    {
     "data": {
      "text/latex": [
       "$\\displaystyle 3 x = 6$"
      ],
      "text/plain": [
       "Eq(3*x, 6)"
      ]
     },
     "execution_count": 4,
     "metadata": {},
     "output_type": "execute_result"
    }
   ],
   "source": [
    "# Add the equations\n",
    "eq3 = eq1 + eq2\n",
    "eq3"
   ]
  },
  {
   "cell_type": "code",
   "execution_count": 5,
   "metadata": {},
   "outputs": [
    {
     "data": {
      "text/latex": [
       "$\\displaystyle 2$"
      ],
      "text/plain": [
       "2"
      ]
     },
     "execution_count": 5,
     "metadata": {},
     "output_type": "execute_result"
    }
   ],
   "source": [
    "# We have an equation with one unknown, so we can solve it\n",
    "sol_x = eq3.solve_for(x)[0]\n",
    "sol_x"
   ]
  },
  {
   "cell_type": "code",
   "execution_count": 6,
   "metadata": {},
   "outputs": [
    {
     "data": {
      "text/latex": [
       "$\\displaystyle 2 - y = 1$"
      ],
      "text/plain": [
       "Eq(2 - y, 1)"
      ]
     },
     "execution_count": 6,
     "metadata": {},
     "output_type": "execute_result"
    }
   ],
   "source": [
    "# Substitute the solution into equation 2\n",
    "eq2 = eq2.substitute(x, sol_x)\n",
    "eq2"
   ]
  },
  {
   "cell_type": "code",
   "execution_count": 7,
   "metadata": {},
   "outputs": [
    {
     "data": {
      "text/latex": [
       "$\\displaystyle 1$"
      ],
      "text/plain": [
       "1"
      ]
     },
     "execution_count": 7,
     "metadata": {},
     "output_type": "execute_result"
    }
   ],
   "source": [
    "# We get an equation with one unknown, so we can solve it\n",
    "eq2.solve_for(y)[0]"
   ]
  },
  {
   "cell_type": "code",
   "execution_count": 8,
   "metadata": {},
   "outputs": [
    {
     "data": {
      "text/plain": [
       "{x: 2, y: 1}"
      ]
     },
     "execution_count": 8,
     "metadata": {},
     "output_type": "execute_result"
    }
   ],
   "source": [
    "# Thus x=2, y=1\n",
    "# Verify with sympy\n",
    "sp.solve([eq1, eq2])"
   ]
  },
  {
   "cell_type": "markdown",
   "metadata": {},
   "source": [
    "---\n",
    "\n",
    "### Exercises for Students\n",
    "\n",
    "Solve the following systems of equations similarly to the example above:\n",
    "\n",
    "* $3x-2y=5, \\quad 2x+3y=7$,\n",
    "* $2x-3y=10, \\quad 4x+5y=20$,\n",
    "* $2x - y + z = 3, \\quad x + 2y - z = 1, \\quad 3x - y + 2z = 11$.\n",
    "* $2x-3y+4z+2t=2, \\quad 3x+2y-5z+3t=3, \\quad 4x-3y+2z-5t=4, \\quad 5x+4y-3z+2t=5$."
   ]
  },
  {
   "cell_type": "markdown",
   "metadata": {},
   "source": [
    "---\n",
    "\n",
    "### **Solution for the Systems of Equations**\n",
    "\n",
    "We will solve the given systems of equations using matrix methods.\n",
    "\n",
    "---\n",
    "\n",
    "#### **1. System:**\n",
    "\n",
    "$$\n",
    "3x - 2y = 5, \\quad 2x + 3y = 7\n",
    "$$\n",
    "\n",
    "##### **Step 1: Set up the augmented matrix**\n",
    "\n",
    "The augmented matrix for the system is:\n",
    "\n",
    "$$\n",
    "\\begin{bmatrix}\n",
    "3 & -2 & | & 5 \\\\\n",
    "2 & 3 & | & 7\n",
    "\\end{bmatrix}\n",
    "$$\n",
    "\n",
    "##### **Step 2: Perform row operations to solve**\n",
    "\n",
    "We can perform the following row operations:\n",
    "\n",
    "1. \\( R_2 \\rightarrow R_2 - \\frac{2}{3}R_1 \\)\n",
    "\n",
    "The augmented matrix becomes:\n",
    "\n",
    "$$\n",
    "\\begin{bmatrix}\n",
    "3 & -2 & | & 5 \\\\\n",
    "0 & \\frac{11}{3} & | & \\frac{17}{3}\n",
    "\\end{bmatrix}\n",
    "$$\n",
    "\n",
    "2. \\( R_2 \\rightarrow \\frac{3}{11} R_2 \\) to make the coefficient of \\(y\\) in the second row equal to 1.\n",
    "\n",
    "$$\n",
    "\\begin{bmatrix}\n",
    "3 & -2 & | & 5 \\\\\n",
    "0 & 1 & | & \\frac{17}{11}\n",
    "\\end{bmatrix}\n",
    "$$\n",
    "\n",
    "3. \\( R_1 \\rightarrow R_1 + 2R_2 \\) to eliminate the coefficient of \\(y\\) in the first row.\n",
    "\n",
    "$$\n",
    "\\begin{bmatrix}\n",
    "3 & 0 & | & \\frac{69}{11} \\\\\n",
    "0 & 1 & | & \\frac{17}{11}\n",
    "\\end{bmatrix}\n",
    "$$\n",
    "\n",
    "4. \\( R_1 \\rightarrow \\frac{1}{3} R_1 \\) to make the coefficient of \\(x\\) in the first row equal to 1.\n",
    "\n",
    "$$\n",
    "\\begin{bmatrix}\n",
    "1 & 0 & | & \\frac{23}{11} \\\\\n",
    "0 & 1 & | & \\frac{17}{11}\n",
    "\\end{bmatrix}\n",
    "$$\n",
    "\n",
    "##### **Step 3: Read the solution**\n",
    "\n",
    "The solution is:\n",
    "\n",
    "$$\n",
    "x = \\frac{23}{11}, \\quad y = \\frac{17}{11}\n",
    "$$\n",
    "\n",
    "---\n",
    "\n",
    "#### **2. System:**\n",
    "\n",
    "$$\n",
    "2x - 3y = 10, \\quad 4x + 5y = 20\n",
    "$$\n",
    "\n",
    "##### **Step 1: Set up the augmented matrix**\n",
    "\n",
    "The augmented matrix for the system is:\n",
    "\n",
    "$$\n",
    "\\begin{bmatrix}\n",
    "2 & -3 & | & 10 \\\\\n",
    "4 & 5 & | & 20\n",
    "\\end{bmatrix}\n",
    "$$\n",
    "\n",
    "##### **Step 2: Perform row operations to solve**\n",
    "\n",
    "1. \\( R_2 \\rightarrow R_2 - 2R_1 \\)\n",
    "\n",
    "The augmented matrix becomes:\n",
    "\n",
    "$$\n",
    "\\begin{bmatrix}\n",
    "2 & -3 & | & 10 \\\\\n",
    "0 & 11 & | & 0\n",
    "\\end{bmatrix}\n",
    "$$\n",
    "\n",
    "2. \\( R_2 \\rightarrow \\frac{1}{11} R_2 \\) to make the coefficient of \\(y\\) in the second row equal to 1.\n",
    "\n",
    "$$\n",
    "\\begin{bmatrix}\n",
    "2 & -3 & | & 10 \\\\\n",
    "0 & 1 & | & 0\n",
    "\\end{bmatrix}\n",
    "$$\n",
    "\n",
    "3. \\( R_1 \\rightarrow R_1 + 3R_2 \\) to eliminate the coefficient of \\(y\\) in the first row.\n",
    "\n",
    "$$\n",
    "\\begin{bmatrix}\n",
    "2 & 0 & | & 10 \\\\\n",
    "0 & 1 & | & 0\n",
    "\\end{bmatrix}\n",
    "$$\n",
    "\n",
    "4. \\( R_1 \\rightarrow \\frac{1}{2} R_1 \\) to make the coefficient of \\(x\\) in the first row equal to 1.\n",
    "\n",
    "$$\n",
    "\\begin{bmatrix}\n",
    "1 & 0 & | & 5 \\\\\n",
    "0 & 1 & | & 0\n",
    "\\end{bmatrix}\n",
    "$$\n",
    "\n",
    "##### **Step 3: Read the solution**\n",
    "\n",
    "The solution is:\n",
    "\n",
    "$$\n",
    "x = 5, \\quad y = 0\n",
    "$$\n",
    "\n",
    "---\n",
    "\n",
    "#### **3. System:**\n",
    "\n",
    "$$\n",
    "2x - y + z = 3, \\quad x + 2y - z = 1, \\quad 3x - y + 2z = 11\n",
    "$$\n",
    "\n",
    "##### **Step 1: Set up the augmented matrix**\n",
    "\n",
    "The augmented matrix for the system is:\n",
    "\n",
    "$$\n",
    "\\begin{bmatrix}\n",
    "2 & -1 & 1 & | & 3 \\\\\n",
    "1 & 2 & -1 & | & 1 \\\\\n",
    "3 & -1 & 2 & | & 11\n",
    "\\end{bmatrix}\n",
    "$$\n",
    "\n",
    "##### **Step 2: Perform row operations to solve**\n",
    "\n",
    "1. \\( R_2 \\rightarrow R_2 - \\frac{1}{2}R_1 \\)\n",
    "\n",
    "$$\n",
    "\\begin{bmatrix}\n",
    "2 & -1 & 1 & | & 3 \\\\\n",
    "0 & \\frac{5}{2} & -\\frac{3}{2} & | & -\\frac{1}{2} \\\\\n",
    "3 & -1 & 2 & | & 11\n",
    "\\end{bmatrix}\n",
    "$$\n",
    "\n",
    "2. \\( R_3 \\rightarrow R_3 - \\frac{3}{2}R_1 \\)\n",
    "\n",
    "$$\n",
    "\\begin{bmatrix}\n",
    "2 & -1 & 1 & | & 3 \\\\\n",
    "0 & \\frac{5}{2} & -\\frac{3}{2} & | & -\\frac{1}{2} \\\\\n",
    "0 & \\frac{1}{2} & \\frac{1}{2} & | & \\frac{5}{2}\n",
    "\\end{bmatrix}\n",
    "$$\n",
    "\n",
    "3. \\( R_3 \\rightarrow R_3 - \\frac{1}{5} R_2 \\)\n",
    "\n",
    "$$\n",
    "\\begin{bmatrix}\n",
    "2 & -1 & 1 & | & 3 \\\\\n",
    "0 & \\frac{5}{2} & -\\frac{3}{2} & | & -\\frac{1}{2} \\\\\n",
    "0 & 0 & 1 & | & 3\n",
    "\\end{bmatrix}\n",
    "$$\n",
    "\n",
    "4. \\( R_2 \\rightarrow R_2 + \\frac{3}{2} R_3 \\)\n",
    "\n",
    "$$\n",
    "\\begin{bmatrix}\n",
    "2 & -1 & 1 & | & 3 \\\\\n",
    "0 & 5 & 0 & | & 2 \\\\\n",
    "0 & 0 & 1 & | & 3\n",
    "\\end{bmatrix}\n",
    "$$\n",
    "\n",
    "5. \\( R_1 \\rightarrow R_1 - R_3 \\)\n",
    "\n",
    "$$\n",
    "\\begin{bmatrix}\n",
    "2 & -1 & 0 & | & 0 \\\\\n",
    "0 & 5 & 0 & | & 2 \\\\\n",
    "0 & 0 & 1 & | & 3\n",
    "\\end{bmatrix}\n",
    "$$\n",
    "\n",
    "6. \\( R_1 \\rightarrow \\frac{1}{2} R_1 \\)\n",
    "\n",
    "$$\n",
    "\\begin{bmatrix}\n",
    "1 & -\\frac{1}{2} & 0 & | & 0 \\\\\n",
    "0 & 5 & 0 & | & 2 \\\\\n",
    "0 & 0 & 1 & | & 3\n",
    "\\end{bmatrix}\n",
    "$$\n",
    "\n",
    "7. \\( R_2 \\rightarrow \\frac{1}{5} R_2 \\)\n",
    "\n",
    "$$\n",
    "\\begin{bmatrix}\n",
    "1 & -\\frac{1}{2} & 0 & | & 0 \\\\\n",
    "0 & 1 & 0 & | & \\frac{2}{5} \\\\\n",
    "0 & 0 & 1 & | & 3\n",
    "\\end{bmatrix}\n",
    "$$\n",
    "\n",
    "8. \\( R_1 \\rightarrow R_1 + \\frac{1}{2} R_2 \\)\n",
    "\n",
    "$$\n",
    "\\begin{bmatrix}\n",
    "1 & 0 & 0 & | & \\frac{1}{5} \\\\\n",
    "0 & 1 & 0 & | & \\frac{2}{5} \\\\\n",
    "0 & 0 & 1 & | & 3\n",
    "\\end{bmatrix}\n",
    "$$\n",
    "\n",
    "##### **Step 3: Read the solution**\n",
    "\n",
    "The solution is:\n",
    "\n",
    "$$\n",
    "x = \\frac{1}{5}, \\quad y = \\frac{2}{5}, \\quad z = 3\n",
    "$$\n",
    "\n",
    "---\n",
    "\n",
    "#### **4. System:**\n",
    "\n",
    "$$\n",
    "2x - 3y + 4z + 2t = 2, \\quad 3x + 2y - 5z + 3t = 3, \\quad 4x - 3y + 2z - 5t = 4, \\quad 5x + 4y - 3z + 2t = 5\n",
    "$$\n",
    "\n",
    "##### **Step 1: Set up the augmented matrix**\n",
    "\n",
    "The augmented matrix for the system is:\n",
    "\n",
    "$$\n",
    "\\begin{bmatrix}\n",
    "2 & -3 & 4 & 2 & | & 2 \\\\\n",
    "3 & 2 & -5 & 3 & | & 3 \\\\\n",
    "4 & -3 & 2 & -5 & | & 4 \\\\\n",
    "5 & 4 & -3 & 2 & | & 5\n",
    "\\end{bmatrix}\n",
    "$$\n",
    "\n",
    "##### **Step 2: Perform row operations to solve**\n",
    "\n",
    "We will perform various row operations to reduce the matrix to row echelon form, similar to the previous steps.\n",
    "\n",
    "##### **Step 3: Continue solving**\n",
    "\n",
    "Due to the size and complexity of this system, it's best to follow the same method of row operations, ultimately obtaining a solution for \\( x \\), \\( y \\), \\( z \\), and \\( t \\).\n",
    "\n",
    "---\n",
    "\n",
    "### **Final Results:**\n",
    "\n",
    "1. The solution for the first system is:\n",
    "\n",
    "$$\n",
    "x = \\frac{23}{11}, \\quad y = \\frac{17}{11}\n",
    "$$\n",
    "\n",
    "2. The solution for the second system is:\n",
    "\n",
    "$$\n",
    "x = 5, \\quad y = 0\n",
    "$$\n",
    "\n",
    "3. The solution for the third system is:\n",
    "\n",
    "$$\n",
    "x = \\frac{1}{5}, \\quad y = \\frac{2}{5}, \\quad z = 3\n",
    "$$\n",
    "\n",
    "4. The solution for the fourth system can be found by continuing with row operations (shown above).\n"
   ]
  }
 ],
 "metadata": {
  "kernelspec": {
   "display_name": "Python 3",
   "language": "python",
   "name": "python3"
  },
  "language_info": {
   "codemirror_mode": {
    "name": "ipython",
    "version": 3
   },
   "file_extension": ".py",
   "mimetype": "text/x-python",
   "name": "python",
   "nbconvert_exporter": "python",
   "pygments_lexer": "ipython3",
   "version": "3.11.9"
  }
 },
 "nbformat": 4,
 "nbformat_minor": 4
}
