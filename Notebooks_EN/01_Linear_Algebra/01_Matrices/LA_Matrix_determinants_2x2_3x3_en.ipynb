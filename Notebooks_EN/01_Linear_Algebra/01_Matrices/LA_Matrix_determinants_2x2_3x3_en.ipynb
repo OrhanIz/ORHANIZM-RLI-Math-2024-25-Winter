{
 "cells": [
  {
   "cell_type": "markdown",
   "metadata": {},
   "source": [
    "# Determinants of 2x2 and 3x3 matrices\n",
    "\n",
    "### Determinant of a 2x2 Matrix\n",
    "\n",
    "The general formula for the determinant of a 2x2 matrix, where the matrix looks as follows:\n",
    "\n",
    "$$\n",
    "\\mathbf{A} =\n",
    "\\begin{pmatrix}\n",
    "a_{11} & a_{12} \\\\\n",
    "a_{21} & a_{22}\n",
    "\\end{pmatrix}\n",
    "$$\n",
    "\n",
    "The determinant of a 2x2 matrix is calculated using the formula:\n",
    "\n",
    "$$\n",
    "\\text{det}(A) = a_{11} \\cdot a_{22} - a_{12} \\cdot a_{21}\n",
    "$$\n",
    "\n",
    "### Determinant of a 3x3 Matrix\n",
    "\n",
    "The general formula for the determinant of a 3x3 matrix, where the matrix looks as follows:\n",
    "\n",
    "$$\n",
    "\\mathbf{B} =\n",
    "\\begin{pmatrix}\n",
    "a_{11} & a_{12} & a_{13} \\\\\n",
    "a_{21} & a_{22} & a_{23} \\\\\n",
    "a_{31} & a_{32} & a_{33}\n",
    "\\end{pmatrix}\n",
    "$$\n",
    "\n",
    "The determinant of a 3x3 matrix can be calculated using Sarrus' rule or Laplace expansion. Here, we will use Sarrus' rule:\n",
    "\n",
    "$$\n",
    "\\text{det}(B) = a_{11} \\cdot a_{22} \\cdot a_{33} + a_{12} \\cdot a_{23} \\cdot a_{31} + a_{13} \\cdot a_{21} \\cdot a_{32} \n",
    "- a_{13} \\cdot a_{22} \\cdot a_{31} - a_{12} \\cdot a_{21} \\cdot a_{33} - a_{11} \\cdot a_{23} \\cdot a_{32}\n",
    "$$\n",
    "\n",
    "<img src=\"https://upload.wikimedia.org/wikipedia/commons/c/c0/Sarrus_rule1.svg\" alt=\"Image description\" width=\"300\" align=\"center\"/>\n",
    "\n",
    "Note: Sarrus' rule does not work for matrices larger than 3x3.\n",
    "\n",
    "### Calculating Determinants in Python using SymPy\n",
    "\n",
    "Now, using the SymPy library, we will calculate the determinants for 2x2 and 3x3 matrices."
   ]
  },
  {
   "cell_type": "code",
   "execution_count": 1,
   "metadata": {},
   "outputs": [
    {
     "data": {
      "text/latex": [
       "$\\displaystyle \\left[\\begin{matrix}2 & 3\\\\1 & 4\\end{matrix}\\right]$"
      ],
      "text/plain": [
       "Matrix([\n",
       "[2, 3],\n",
       "[1, 4]])"
      ]
     },
     "execution_count": 1,
     "metadata": {},
     "output_type": "execute_result"
    }
   ],
   "source": [
    "import sympy as sp\n",
    "\n",
    "# Define the matrix\n",
    "A = sp.Matrix([[2, 3], [1, 4]])\n",
    "A # display the matrix"
   ]
  },
  {
   "cell_type": "code",
   "execution_count": 2,
   "metadata": {
    "notebookRunGroups": {
     "groupValue": "2"
    }
   },
   "outputs": [
    {
     "data": {
      "text/plain": [
       "True"
      ]
     },
     "execution_count": 2,
     "metadata": {},
     "output_type": "execute_result"
    }
   ],
   "source": [
    "# Verify the correctness of the calculations\n",
    "(2*4 - 3*1) == A.det()"
   ]
  },
  {
   "cell_type": "code",
   "execution_count": 3,
   "metadata": {},
   "outputs": [
    {
     "data": {
      "text/latex": [
       "$\\displaystyle \\left[\\begin{matrix}2 & 3 & 1\\\\1 & 4 & 5\\\\3 & 2 & 1\\end{matrix}\\right]$"
      ],
      "text/plain": [
       "Matrix([\n",
       "[2, 3, 1],\n",
       "[1, 4, 5],\n",
       "[3, 2, 1]])"
      ]
     },
     "execution_count": 3,
     "metadata": {},
     "output_type": "execute_result"
    }
   ],
   "source": [
    "# 3x3 Matrix\n",
    "B = sp.Matrix([[2, 3, 1], [1, 4, 5], [3, 2, 1]])\n",
    "B"
   ]
  },
  {
   "cell_type": "code",
   "execution_count": 4,
   "metadata": {},
   "outputs": [
    {
     "data": {
      "text/plain": [
       "True"
      ]
     },
     "execution_count": 4,
     "metadata": {},
     "output_type": "execute_result"
    }
   ],
   "source": [
    "# Verify the correctness of the calculations\n",
    "(2*4*1 + 3*5*3 + 1*1*2 - 1*4*3 - 5*2*2 - 3*1*1) == B.det()"
   ]
  },
  {
   "cell_type": "markdown",
   "metadata": {},
   "source": [
    "---\n",
    "\n",
    "## Exercises for Students\n",
    "\n",
    "Calculate the determinants for the 2x2 and 3x3 matrices given below.\n",
    "\n",
    "1. 2x2 Matrices:\n",
    "\n",
    "$$\n",
    "\\mathbf{A} =\n",
    "\\begin{pmatrix}\n",
    "2 & 3 \\\\\n",
    "1 & 4\n",
    "\\end{pmatrix}\n",
    ", \\qquad\n",
    "\\mathbf{B} =\n",
    "\\begin{pmatrix}\n",
    "5 & 6 \\\\\n",
    "7 & 8\n",
    "\\end{pmatrix}\n",
    ", \\qquad\n",
    "\\mathbf{C} =\n",
    "\\begin{pmatrix}\n",
    "-1 & 2 \\\\\n",
    "3 & 0\n",
    "\\end{pmatrix}\n",
    "$$\n",
    "\n",
    "2. 3x3 Matrices:\n",
    " \n",
    "\n",
    "$$\n",
    "\\mathbf{D} =\n",
    "\\begin{pmatrix}\n",
    "1 & 0 & 2 \\\\\n",
    "-1 & 3 & 1 \\\\\n",
    "2 & 4 & -2\n",
    "\\end{pmatrix}\n",
    ", \\qquad\n",
    "\\mathbf{E} =\n",
    "\\begin{pmatrix}\n",
    "3 & 1 & -1 \\\\\n",
    "0 & 2 & 4 \\\\\n",
    "5 & 3 & 2\n",
    "\\end{pmatrix}\n",
    ", \\qquad\n",
    "\\mathbf{F} =\n",
    "\\begin{pmatrix}\n",
    "2 & -3 & 1 \\\\\n",
    "1 & 4 & -2 \\\\\n",
    "1 & 5 & 3\n",
    "\\end{pmatrix}\n",
    "$$"
   ]
  },
  {
   "cell_type": "markdown",
   "metadata": {},
   "source": [
    "from sympy import Matrix\n",
    "\n",
    "# Define matrices\n",
    "A = Matrix([[2, 3], [1, 4]])  # $$\\mathbf{A} = \\begin{pmatrix} 2 & 3 \\\\ 1 & 4 \\end{pmatrix}$$\n",
    "B = Matrix([[5, 6], [7, 8]])  # $$\\mathbf{B} = \\begin{pmatrix} 5 & 6 \\\\ 7 & 8 \\end{pmatrix}$$\n",
    "C = Matrix([[-1, 2], [3, 0]])  # $$\\mathbf{C} = \\begin{pmatrix} -1 & 2 \\\\ 3 & 0 \\end{pmatrix}$$\n",
    "D = Matrix([[1, 0, 2], [-1, 3, 1], [2, 4, -2]])  # $$\\mathbf{D} = \\begin{pmatrix} 1 & 0 & 2 \\\\ -1 & 3 & 1 \\\\ 2 & 4 & -2 \\end{pmatrix}$$\n",
    "E = Matrix([[3, 1, -1], [0, 2, 4], [5, 3, 2]])  # $$\\mathbf{E} = \\begin{pmatrix} 3 & 1 & -1 \\\\ 0 & 2 & 4 \\\\ 5 & 3 & 2 \\end{pmatrix}$$\n",
    "F = Matrix([[2, -3, 1], [1, 4, -2], [1, 5, 3]])  # $$\\mathbf{F} = \\begin{pmatrix} 2 & -3 & 1 \\\\ 1 & 4 & -2 \\\\ 1 & 5 & 3 \\end{pmatrix}$$\n",
    "\n",
    "# Calculate determinants\n",
    "det_A = A.det()  # $$\\det(\\mathbf{A})$$\n",
    "det_B = B.det()  # $$\\det(\\mathbf{B})$$\n",
    "det_C = C.det()  # $$\\det(\\mathbf{C})$$\n",
    "det_D = D.det()  # $$\\det(\\mathbf{D})$$\n",
    "det_E = E.det()  # $$\\det(\\mathbf{E})$$\n",
    "det_F = F.det()  # $$\\det(\\mathbf{F})$$\n",
    "\n",
    "# Display results\n",
    "print(f\"$$\\\\det(\\\\mathbf{{A}}) = {det_A}$$\")  # &&det(A)&&\n",
    "print(f\"$$\\\\det(\\\\mathbf{{B}}) = {det_B}$$\")  # &&det(B)&&\n",
    "print(f\"$$\\\\det(\\\\mathbf{{C}}) = {det_C}$$\")  # &&det(C)&&\n",
    "print(f\"$$\\\\det(\\\\mathbf{{D}}) = {det_D}$$\")  # &&det(D)&&\n",
    "print(f\"$$\\\\det(\\\\mathbf{{E}}) = {det_E}$$\")  # &&det(E)&&\n",
    "print(f\"$$\\\\det(\\\\mathbf{{F}}) = {det_F}$$\")  # &&det(F)&&\n"
   ]
  }
 ],
 "metadata": {
  "kernelspec": {
   "display_name": "Python 3",
   "language": "python",
   "name": "python3"
  },
  "language_info": {
   "codemirror_mode": {
    "name": "ipython",
    "version": 3
   },
   "file_extension": ".py",
   "mimetype": "text/x-python",
   "name": "python",
   "nbconvert_exporter": "python",
   "pygments_lexer": "ipython3",
   "version": "3.11.9"
  }
 },
 "nbformat": 4,
 "nbformat_minor": 4
}
