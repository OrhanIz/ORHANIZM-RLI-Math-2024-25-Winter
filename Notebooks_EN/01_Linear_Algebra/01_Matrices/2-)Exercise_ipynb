
# Basic Matrix Operations

### Matrix Addition

Let $A=[a_{ij}]$ and $B=[b_{ij}]$ be two matrices of dimensions $m \times n$. Then the sum of matrices $A$ and $B$ is the matrix $C=[c_{ij}]$ of dimensions $m \times n$, where $c_{ij}=a_{ij}+b_{ij}$.

### Matrix Scalar Multiplication

Let $A=[a_{ij}]$ be a matrix of dimensions $m \times n$, and let $k$ be a scalar. Then the product of matrix $A$ and scalar $k$ is the matrix $B=[b_{ij}]$ of dimensions $m \times n$, where $b_{ij}=k \cdot a_{ij}$.

### Matrix Multiplication

Let $A=[a_{ij}]$ be a matrix of dimensions $m \times n$, and $B=[b_{ij}]$ be a matrix of dimensions $n \times p$. Then the product of matrices $A$ and $B$ is the matrix $C=[c_{ij}]$ of dimensions $m \times p$, where $c_{ij}=\sum_{k=1}^{n} a_{ik} \cdot b_{kj}$.


### Example 1

Let $A=\begin{bmatrix} 1 & 2 \\ 3 & 4 \end{bmatrix}$ and $B=\begin{bmatrix} 5 & 6 \\ 7 & 8 \end{bmatrix}$. 
Then the sum of matrices $A$ and $B$ is 

$$
C=
A+B=\begin{bmatrix} 1+5 & 2+6 \\ 3+7 & 4+8 \end{bmatrix}=\begin{bmatrix} 6 & 8 \\ 10 & 12 \end{bmatrix}.
$$

### Example 2

Let $A=\begin{bmatrix} 1 & 2 \\ 3 & 4 \end{bmatrix}$ and $k=2$.

Then the product of matrix $A$ and scalar $k$ is

$$
B=
k \cdot A=2 \cdot \begin{bmatrix} 1 & 2 \\ 3 & 4 \end{bmatrix}=\begin{bmatrix} 2*1 & 2*2 \\ 2*3 & 2*4 \end{bmatrix}=\begin{bmatrix} 2 & 4 \\ 6 & 8 \end{bmatrix}.
$$

### Example 3

Let 
$A=\begin{bmatrix} 1 & 2 \\ 3 & 4 \end{bmatrix}$ 
and 
$B=\begin{bmatrix} 5 & 6 \\ 7 & 8 \end{bmatrix}$.

Then the product of matrices $A$ and $B$ is

$$
C=
A \cdot B=\begin{bmatrix} 1*5+2*7 & 1*6+2*8 \\ 3*5+4*7 & 3*6+4*8 \end{bmatrix}=\begin{bmatrix} 19 & 22 \\ 43 & 50 \end{bmatrix}.
$$


